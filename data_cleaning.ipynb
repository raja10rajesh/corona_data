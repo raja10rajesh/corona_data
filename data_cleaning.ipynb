{
  "nbformat": 4,
  "nbformat_minor": 0,
  "metadata": {
    "colab": {
      "name": "data cleaning.ipynb",
      "provenance": [],
      "authorship_tag": "ABX9TyNwuPWqCYkNQaBHjJtpktJ/",
      "include_colab_link": true
    },
    "kernelspec": {
      "name": "python3",
      "display_name": "Python 3"
    }
  },
  "cells": [
    {
      "cell_type": "markdown",
      "metadata": {
        "id": "view-in-github",
        "colab_type": "text"
      },
      "source": [
        "<a href=\"https://colab.research.google.com/github/raja10rajesh/corona_data/blob/master/data_cleaning.ipynb\" target=\"_parent\"><img src=\"https://colab.research.google.com/assets/colab-badge.svg\" alt=\"Open In Colab\"/></a>"
      ]
    },
    {
      "cell_type": "code",
      "metadata": {
        "id": "_ljkbp0PmN8f",
        "colab_type": "code",
        "colab": {}
      },
      "source": [
        "import pandas as pd"
      ],
      "execution_count": 0,
      "outputs": []
    },
    {
      "cell_type": "code",
      "metadata": {
        "id": "NS7Y6Z6Nm_rm",
        "colab_type": "code",
        "colab": {}
      },
      "source": [
        "health_care = pd.read_csv('health_care.csv',low_memory=False)\n",
        "literacy_rate = pd.read_csv('literacy.csv',low_memory =False)\n",
        "birth_rate = pd.read_csv('birth_rate.csv',low_memory=False)\n",
        "cancer_rate =  pd.read_csv('cancer_rate.csv',low_memory=False)\n",
        "corruption = pd.read_csv('corruption.csv',low_memory=False)\n",
        "gdp = pd.read_csv('gdp.csv',low_memory=False)\n",
        "median_age = pd.read_csv('median_age.csv',low_memory=False)\n",
        "smoking_rate = pd.read_csv('smoking_rate.csv',low_memory=False)\n",
        "population = pd.read_csv('popu.csv',low_memory=False)"
      ],
      "execution_count": 0,
      "outputs": []
    },
    {
      "cell_type": "code",
      "metadata": {
        "id": "f9T8QEia13aC",
        "colab_type": "code",
        "colab": {
          "base_uri": "https://localhost:8080/",
          "height": 175
        },
        "outputId": "0f8cfaf0-2d2d-43f2-e3d6-e7208d834ba5"
      },
      "source": [
        "print (\"health_care\",len(health_care))\n",
        "print (\"literacy_rate\",len(literacy_rate))\n",
        "print (\"birth_rate\",len(birth_rate))\n",
        "print (\"cancer_rate\",len(cancer_rate))\n",
        "print (\"corruption\",len(corruption))\n",
        "print (\"gdp\",len(gdp))\n",
        "print (\"median_age\",len(median_age))\n",
        "print (\"smoking_rate\",len(smoking_rate))\n",
        "print (\"population\",len(population))\n"
      ],
      "execution_count": 99,
      "outputs": [
        {
          "output_type": "stream",
          "text": [
            "health_care 99\n",
            "literacy_rate 156\n",
            "birth_rate 212\n",
            "cancer_rate 48\n",
            "corruption 168\n",
            "gdp 211\n",
            "median_age 214\n",
            "smoking_rate 124\n",
            "population 232\n"
          ],
          "name": "stdout"
        }
      ]
    },
    {
      "cell_type": "code",
      "metadata": {
        "id": "NFzm1Snw3K0y",
        "colab_type": "code",
        "colab": {}
      },
      "source": [
        "temp0 = population.merge(health_care,how='left',on = 'name') \n",
        "\n"
      ],
      "execution_count": 0,
      "outputs": []
    },
    {
      "cell_type": "code",
      "metadata": {
        "id": "ByspuquS8JW1",
        "colab_type": "code",
        "colab": {}
      },
      "source": [
        "temp1 = temp0.merge(literacy_rate,how='left',on = 'name') \n"
      ],
      "execution_count": 0,
      "outputs": []
    },
    {
      "cell_type": "code",
      "metadata": {
        "id": "iB2EPLkC8Rq6",
        "colab_type": "code",
        "colab": {}
      },
      "source": [
        "temp0 = temp1.merge(birth_rate,how='left',on = 'name') \n"
      ],
      "execution_count": 0,
      "outputs": []
    },
    {
      "cell_type": "code",
      "metadata": {
        "id": "M_-MnDdQ8TpU",
        "colab_type": "code",
        "colab": {}
      },
      "source": [
        "temp1 = temp0.merge(cancer_rate,how='left',on = 'name') \n"
      ],
      "execution_count": 0,
      "outputs": []
    },
    {
      "cell_type": "code",
      "metadata": {
        "id": "yWTTw6JY8VIJ",
        "colab_type": "code",
        "colab": {}
      },
      "source": [
        "temp0 = temp1.merge(corruption,how='left',on = 'name') \n"
      ],
      "execution_count": 0,
      "outputs": []
    },
    {
      "cell_type": "code",
      "metadata": {
        "id": "4Ax_TD5w8Woq",
        "colab_type": "code",
        "colab": {}
      },
      "source": [
        "temp1 = temp0.merge(gdp,how='left',on = 'name') \n"
      ],
      "execution_count": 0,
      "outputs": []
    },
    {
      "cell_type": "code",
      "metadata": {
        "id": "U5nQEsLH8YeU",
        "colab_type": "code",
        "colab": {}
      },
      "source": [
        "temp0 = temp1.merge(median_age,how='left',on = 'name') \n"
      ],
      "execution_count": 0,
      "outputs": []
    },
    {
      "cell_type": "code",
      "metadata": {
        "id": "Gm6jvIL-8pXL",
        "colab_type": "code",
        "colab": {}
      },
      "source": [
        "temp1 = temp0.merge(smoking_rate,how='left',on = 'name') "
      ],
      "execution_count": 0,
      "outputs": []
    },
    {
      "cell_type": "code",
      "metadata": {
        "id": "kj4sG1RS83mk",
        "colab_type": "code",
        "colab": {
          "base_uri": "https://localhost:8080/",
          "height": 34
        },
        "outputId": "efdc1ebc-0042-477f-965a-aadb95c09c5c"
      },
      "source": [
        "len(temp1)"
      ],
      "execution_count": 116,
      "outputs": [
        {
          "output_type": "execute_result",
          "data": {
            "text/plain": [
              "232"
            ]
          },
          "metadata": {
            "tags": []
          },
          "execution_count": 116
        }
      ]
    },
    {
      "cell_type": "code",
      "metadata": {
        "id": "8vlrV6fFC97x",
        "colab_type": "code",
        "colab": {}
      },
      "source": [
        "temp1.to_csv('domographic_world.csv')\n"
      ],
      "execution_count": 0,
      "outputs": []
    },
    {
      "cell_type": "code",
      "metadata": {
        "id": "fUStcPdXDFBn",
        "colab_type": "code",
        "colab": {}
      },
      "source": [
        ""
      ],
      "execution_count": 0,
      "outputs": []
    }
  ]
}